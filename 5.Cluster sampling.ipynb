{
 "cells": [
  {
   "cell_type": "markdown",
   "metadata": {},
   "source": [
    "# Cluster sampling"
   ]
  },
  {
   "cell_type": "markdown",
   "metadata": {},
   "source": [
    "### \"A sampling method in which the population is divided into clusters or groups, and a random sample of clusters is selected. All individuals within the chosen clusters are included in the sample. This approach is useful when the population is naturally divided into groups, and it is more practical to sample entire clusters.\""
   ]
  },
  {
   "cell_type": "code",
   "execution_count": 1,
   "metadata": {},
   "outputs": [],
   "source": [
    "from sklearn.datasets import load_iris\n",
    "from sklearn.model_selection import train_test_split"
   ]
  },
  {
   "cell_type": "code",
   "execution_count": 2,
   "metadata": {},
   "outputs": [],
   "source": [
    "# Load the Iris dataset\n",
    "iris = load_iris()\n",
    "X = iris.data\n",
    "y = iris.target\n",
    "\n",
    "import numpy as np\n",
    "# Set the seed for reproducibility\n",
    "np.random.seed(42)"
   ]
  },
  {
   "cell_type": "code",
   "execution_count": 3,
   "metadata": {},
   "outputs": [],
   "source": [
    "# Define the number of clusters you want to select\n",
    "num_clusters = 2\n",
    "\n",
    "# Perform cluster sampling\n",
    "clusters, _ = train_test_split(np.arange(len(X)), test_size=num_clusters, random_state=42)\n",
    "\n",
    "# Extract the cluster sample\n",
    "X_cluster = X[clusters]\n",
    "y_cluster = y[clusters]"
   ]
  },
  {
   "cell_type": "code",
   "execution_count": 4,
   "metadata": {},
   "outputs": [
    {
     "name": "stdout",
     "output_type": "stream",
     "text": [
      "X_cluster shape: (148, 4)\n",
      "y_cluster shape: (148,)\n"
     ]
    }
   ],
   "source": [
    "# Print the shapes of the resulting cluster sample\n",
    "print(\"X_cluster shape:\", X_cluster.shape)\n",
    "print(\"y_cluster shape:\", y_cluster.shape)"
   ]
  },
  {
   "cell_type": "code",
   "execution_count": null,
   "metadata": {},
   "outputs": [],
   "source": []
  }
 ],
 "metadata": {
  "kernelspec": {
   "display_name": "base",
   "language": "python",
   "name": "python3"
  },
  "language_info": {
   "codemirror_mode": {
    "name": "ipython",
    "version": 3
   },
   "file_extension": ".py",
   "mimetype": "text/x-python",
   "name": "python",
   "nbconvert_exporter": "python",
   "pygments_lexer": "ipython3",
   "version": "3.11.5"
  }
 },
 "nbformat": 4,
 "nbformat_minor": 2
}
